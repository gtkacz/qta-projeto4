{
 "cells": [
  {
   "cell_type": "code",
   "execution_count": 1,
   "id": "5322421d",
   "metadata": {},
   "outputs": [],
   "source": [
    "import seaborn as sns, matplotlib.pyplot as plt, pandas as pd, locale, numpy as np"
   ]
  },
  {
   "cell_type": "code",
   "execution_count": 2,
   "id": "ccf55f53",
   "metadata": {},
   "outputs": [],
   "source": [
    "locale.setlocale(locale.LC_ALL, 'pt_BR.UTF-8')\n",
    "sns.set()\n",
    "sns.set_style('whitegrid')\n",
    "plt.rcParams['figure.figsize'] = (8,5)\n",
    "plt.rcParams['font.family'] = 'Calibri'\n",
    "plt.rc('font', size=14) \n",
    "plt.rc('axes', labelsize=15)\n",
    "plt.rc('xtick', labelsize=15)\n",
    "plt.rc('ytick', labelsize=15)\n",
    "plt.rc('legend', fontsize=15)"
   ]
  },
  {
   "cell_type": "code",
   "execution_count": 63,
   "id": "191a33ec",
   "metadata": {},
   "outputs": [
    {
     "data": {
      "text/html": [
       "<div>\n",
       "<style scoped>\n",
       "    .dataframe tbody tr th:only-of-type {\n",
       "        vertical-align: middle;\n",
       "    }\n",
       "\n",
       "    .dataframe tbody tr th {\n",
       "        vertical-align: top;\n",
       "    }\n",
       "\n",
       "    .dataframe thead th {\n",
       "        text-align: right;\n",
       "    }\n",
       "</style>\n",
       "<table border=\"1\" class=\"dataframe\">\n",
       "  <thead>\n",
       "    <tr style=\"text-align: right;\">\n",
       "      <th></th>\n",
       "      <th>Voltagem (V)</th>\n",
       "      <th>Corrente (A)</th>\n",
       "      <th>Corrente (mA)</th>\n",
       "      <th>Potência</th>\n",
       "      <th>Potencia Luminosa</th>\n",
       "      <th>Dimensão da placa</th>\n",
       "    </tr>\n",
       "  </thead>\n",
       "  <tbody>\n",
       "    <tr>\n",
       "      <th>0</th>\n",
       "      <td>0.0</td>\n",
       "      <td>8.140000</td>\n",
       "      <td>8140.000000</td>\n",
       "      <td>0.000000</td>\n",
       "      <td>1000 W/m2</td>\n",
       "      <td>2m x 1m</td>\n",
       "    </tr>\n",
       "    <tr>\n",
       "      <th>1</th>\n",
       "      <td>0.5</td>\n",
       "      <td>8.140000</td>\n",
       "      <td>8139.999985</td>\n",
       "      <td>4.070000</td>\n",
       "      <td>NaN</td>\n",
       "      <td>NaN</td>\n",
       "    </tr>\n",
       "    <tr>\n",
       "      <th>2</th>\n",
       "      <td>1.0</td>\n",
       "      <td>8.140000</td>\n",
       "      <td>8139.999967</td>\n",
       "      <td>8.140000</td>\n",
       "      <td>NaN</td>\n",
       "      <td>NaN</td>\n",
       "    </tr>\n",
       "    <tr>\n",
       "      <th>3</th>\n",
       "      <td>1.5</td>\n",
       "      <td>8.140000</td>\n",
       "      <td>8139.999945</td>\n",
       "      <td>12.210000</td>\n",
       "      <td>NaN</td>\n",
       "      <td>NaN</td>\n",
       "    </tr>\n",
       "    <tr>\n",
       "      <th>4</th>\n",
       "      <td>2.0</td>\n",
       "      <td>8.140000</td>\n",
       "      <td>8139.999918</td>\n",
       "      <td>16.280000</td>\n",
       "      <td>NaN</td>\n",
       "      <td>NaN</td>\n",
       "    </tr>\n",
       "    <tr>\n",
       "      <th>...</th>\n",
       "      <td>...</td>\n",
       "      <td>...</td>\n",
       "      <td>...</td>\n",
       "      <td>...</td>\n",
       "      <td>...</td>\n",
       "      <td>...</td>\n",
       "    </tr>\n",
       "    <tr>\n",
       "      <th>96</th>\n",
       "      <td>48.0</td>\n",
       "      <td>-0.810267</td>\n",
       "      <td>-810.267242</td>\n",
       "      <td>-38.892828</td>\n",
       "      <td>NaN</td>\n",
       "      <td>NaN</td>\n",
       "    </tr>\n",
       "    <tr>\n",
       "      <th>97</th>\n",
       "      <td>48.5</td>\n",
       "      <td>-2.731293</td>\n",
       "      <td>-2731.292745</td>\n",
       "      <td>-132.467698</td>\n",
       "      <td>NaN</td>\n",
       "      <td>NaN</td>\n",
       "    </tr>\n",
       "    <tr>\n",
       "      <th>98</th>\n",
       "      <td>49.0</td>\n",
       "      <td>-5.064634</td>\n",
       "      <td>-5064.634310</td>\n",
       "      <td>-248.167081</td>\n",
       "      <td>NaN</td>\n",
       "      <td>NaN</td>\n",
       "    </tr>\n",
       "    <tr>\n",
       "      <th>99</th>\n",
       "      <td>49.5</td>\n",
       "      <td>-7.898789</td>\n",
       "      <td>-7898.788700</td>\n",
       "      <td>-390.990041</td>\n",
       "      <td>NaN</td>\n",
       "      <td>NaN</td>\n",
       "    </tr>\n",
       "    <tr>\n",
       "      <th>100</th>\n",
       "      <td>50.0</td>\n",
       "      <td>-11.341247</td>\n",
       "      <td>-11341.247028</td>\n",
       "      <td>-567.062351</td>\n",
       "      <td>NaN</td>\n",
       "      <td>NaN</td>\n",
       "    </tr>\n",
       "  </tbody>\n",
       "</table>\n",
       "<p>101 rows × 6 columns</p>\n",
       "</div>"
      ],
      "text/plain": [
       "     Voltagem (V)  Corrente (A)  Corrente (mA)    Potência Potencia Luminosa  \\\n",
       "0             0.0      8.140000    8140.000000    0.000000         1000 W/m2   \n",
       "1             0.5      8.140000    8139.999985    4.070000               NaN   \n",
       "2             1.0      8.140000    8139.999967    8.140000               NaN   \n",
       "3             1.5      8.140000    8139.999945   12.210000               NaN   \n",
       "4             2.0      8.140000    8139.999918   16.280000               NaN   \n",
       "..            ...           ...            ...         ...               ...   \n",
       "96           48.0     -0.810267    -810.267242  -38.892828               NaN   \n",
       "97           48.5     -2.731293   -2731.292745 -132.467698               NaN   \n",
       "98           49.0     -5.064634   -5064.634310 -248.167081               NaN   \n",
       "99           49.5     -7.898789   -7898.788700 -390.990041               NaN   \n",
       "100          50.0    -11.341247  -11341.247028 -567.062351               NaN   \n",
       "\n",
       "    Dimensão da placa  \n",
       "0             2m x 1m  \n",
       "1                 NaN  \n",
       "2                 NaN  \n",
       "3                 NaN  \n",
       "4                 NaN  \n",
       "..                ...  \n",
       "96                NaN  \n",
       "97                NaN  \n",
       "98                NaN  \n",
       "99                NaN  \n",
       "100               NaN  \n",
       "\n",
       "[101 rows x 6 columns]"
      ]
     },
     "execution_count": 63,
     "metadata": {},
     "output_type": "execute_result"
    }
   ],
   "source": [
    "df = pd.read_excel('Gabriel Tkacz - P4-2.xlsx')\n",
    "df.drop('Unnamed: 2', axis=1, inplace=True)\n",
    "df.insert(2, 'Corrente (mA)', (1000 * df['Corrente (A)']))\n",
    "df.insert(3, 'Potência', (df['Voltagem (V)'] * df['Corrente (A)']))\n",
    "df"
   ]
  },
  {
   "cell_type": "code",
   "execution_count": 45,
   "id": "8304cb22",
   "metadata": {},
   "outputs": [
    {
     "data": {
      "text/plain": [
       "8140.0"
      ]
     },
     "execution_count": 45,
     "metadata": {},
     "output_type": "execute_result"
    }
   ],
   "source": [
    "potencia_luminosa = df['Potencia Luminosa'].values[0]\n",
    "potencia_luminosa = int(potencia_luminosa.split()[0])\n",
    "\n",
    "dimensao = df['Dimensão da placa'].values[0]\n",
    "\n",
    "a = df['Corrente (mA)'].values\n",
    "idx = min(range(len(a)), key=lambda i: abs(a[i]))\n",
    "\n",
    "Isc = round(df['Corrente (mA)'].values[0], 1)\n",
    "Voc = round(df['Voltagem (V)'].values[idx], 1)"
   ]
  },
  {
   "cell_type": "code",
   "execution_count": 68,
   "id": "89211c24",
   "metadata": {},
   "outputs": [
    {
     "data": {
      "image/png": "[encoded data removed]",
      "text/plain": [
       "<Figure size 576x360 with 2 Axes>"
      ]
     },
     "metadata": {},
     "output_type": "display_data"
    }
   ],
   "source": [
    "fig, ax1 = plt.subplots()\n",
    "ax2 = ax1.twinx()\n",
    "\n",
    "ax1.plot(df['Voltagem (V)'], df['Corrente (A)'])\n",
    "ax1.plot(df['Voltagem (V)'], df['Potência'])\n",
    "#plt.plot(df['Corrente (mA)'].values[-1], Isc, marker=\"x\", markersize=15, markeredgecolor=\"orange\")\n",
    "#plt.annotate(f'Isc: {Isc}', (Isc-4, df['Corrente (mA)'].values[-1]), ha='center', va='center')\n",
    "ax1.set_ylabel('Corrente (A)')\n",
    "ax2.set_ylabel('Potência (W)')\n",
    "ax1.set_xlabel('Voltagem (V)')\n",
    "#plt.ylim([0, 8.5e3])\n",
    "#plt.savefig('cvx.png')\n",
    "plt.show()"
   ]
  },
  {
   "cell_type": "code",
   "execution_count": null,
   "id": "4a3c2d1f",
   "metadata": {},
   "outputs": [],
   "source": []
  }
 ],
 "metadata": {
  "kernelspec": {
   "display_name": "Python 3 (ipykernel)",
   "language": "python",
   "name": "python3"
  },
  "language_info": {
   "codemirror_mode": {
    "name": "ipython",
    "version": 3
   },
   "file_extension": ".py",
   "mimetype": "text/x-python",
   "name": "python",
   "nbconvert_exporter": "python",
   "pygments_lexer": "ipython3",
   "version": "3.9.6"
  }
 },
 "nbformat": 4,
 "nbformat_minor": 5
}

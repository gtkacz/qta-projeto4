{
 "cells": [
  {
   "cell_type": "markdown",
   "id": "b8d9be49",
   "metadata": {},
   "source": [
    "# CARACTERIZAÇÃO"
   ]
  },
  {
   "cell_type": "code",
   "execution_count": 1,
   "id": "8b6976d4",
   "metadata": {},
   "outputs": [],
   "source": [
    "import seaborn as sns, matplotlib.pyplot as plt, pandas as pd, locale, numpy as np\n",
    "from matplotlib import ticker as mtick\n",
    "from matplotlib.ticker import FormatStrFormatter\n",
    "from math import ceil"
   ]
  },
  {
   "cell_type": "code",
   "execution_count": 2,
   "id": "ba6afe48",
   "metadata": {},
   "outputs": [],
   "source": [
    "locale.setlocale(locale.LC_ALL, 'pt_BR.UTF-8')\n",
    "sns.set()\n",
    "sns.set_style('whitegrid')"
   ]
  },
  {
   "cell_type": "markdown",
   "id": "e8736652",
   "metadata": {},
   "source": [
    "# DIMENSIONAMENTO"
   ]
  },
  {
   "cell_type": "code",
   "execution_count": 3,
   "id": "040d8456",
   "metadata": {},
   "outputs": [],
   "source": [
    "coordenadas = (-23.529327821698946, -46.66703345944381) #São Paulo\n",
    "irr_media = 4.46e3 #https://i.imgur.com/ozK5pef.jpeg\n",
    "Acell = 2\n",
    "Plight = 1000\n",
    "n = round((345/Acell)/Plight * 100, 1)"
   ]
  },
  {
   "cell_type": "code",
   "execution_count": 4,
   "id": "c35de2fa",
   "metadata": {},
   "outputs": [],
   "source": [
    "energia_1placa = (n/100) * irr_media * Acell * 30\n",
    "\n",
    "#energia_casa = 0\n",
    "#for v in casa.values():\n",
    "#    valor = v['quantidade'] * v['consumo'] * v['uso']\n",
    "#    energia_casa += valor\n",
    "energia_casa = 465e3\n",
    "\n",
    "qtd_placas_p = (energia_casa/energia_1placa)\n",
    "qtd_placas = ceil(qtd_placas_p)\n",
    "sobra = (qtd_placas - qtd_placas_p) * energia_1placa\n",
    "sobra = round(sobra, 1)"
   ]
  },
  {
   "cell_type": "code",
   "execution_count": 5,
   "id": "383768fd",
   "metadata": {},
   "outputs": [],
   "source": [
    "capacidade_1bateria = (100 * 12)/1000\n",
    "autonomia = (2 * energia_casa)/30000\n",
    "\n",
    "qtd_baterias = ceil(autonomia/capacidade_1bateria)"
   ]
  },
  {
   "cell_type": "code",
   "execution_count": 7,
   "id": "91490530",
   "metadata": {},
   "outputs": [
    {
     "name": "stdout",
     "output_type": "stream",
     "text": [
      "A célula solar tem eficiência de 17.2%, e cada placa solar gera 46.0272kWh por mês.\n",
      "A casa consome 465.0kWh por mês.\n",
      "Sendo assim, são necessárias 11 placas para sustentar a casa.\n",
      "\n",
      "\n",
      "Para dois dias de autonomia, são necessários 31.0kWh. Cada bateria tem capacidade de 1.2kWh.\n",
      "Sendo assim, são necessárias 26 baterias para dois dias de autonomia.\n",
      "Com as baterias carregando a 41.2992Wh (excesso de energia) por dia, são necessários cerca de 1 dias de carregamento para ter 2 dias de autonomia.\n"
     ]
    }
   ],
   "source": [
    "print(f'A célula solar tem eficiência de {n}%, e cada placa solar gera {energia_1placa/1000}kWh por mês.')\n",
    "print(f'A casa consome {energia_casa/1000}kWh por mês.')\n",
    "print(f'Sendo assim, são necessárias {qtd_placas} placas para sustentar a casa.')\n",
    "\n",
    "print('\\n')\n",
    "\n",
    "print(f'Para dois dias de autonomia, são necessários {autonomia}kWh. Cada bateria tem capacidade de {capacidade_1bateria}kWh.')\n",
    "print(f'Sendo assim, são necessárias {qtd_baterias} baterias para dois dias de autonomia.')\n",
    "print(f'Com as baterias carregando a {sobra/1000}Wh (excesso de energia) por dia, são necessários cerca de {ceil(autonomia/(sobra*qtd_baterias))} dias de carregamento para ter 2 dias de autonomia.')"
   ]
  },
  {
   "cell_type": "code",
   "execution_count": null,
   "id": "54308e6e",
   "metadata": {},
   "outputs": [],
   "source": []
  }
 ],
 "metadata": {
  "kernelspec": {
   "display_name": "Python 3 (ipykernel)",
   "language": "python",
   "name": "python3"
  },
  "language_info": {
   "codemirror_mode": {
    "name": "ipython",
    "version": 3
   },
   "file_extension": ".py",
   "mimetype": "text/x-python",
   "name": "python",
   "nbconvert_exporter": "python",
   "pygments_lexer": "ipython3",
   "version": "3.9.6"
  }
 },
 "nbformat": 4,
 "nbformat_minor": 5
}
